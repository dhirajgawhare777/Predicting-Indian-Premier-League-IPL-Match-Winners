{
  "cells": [
    {
      "metadata": {
        "_cell_guid": "b1076dfc-b9ad-4769-8c92-a6c4dae69d19",
        "_uuid": "8f2839f25d086af736a60e9eeb907d3b93b6e0e5",
        "trusted": false,
        "collapsed": true,
        "id": "yFE9PcakwL5o"
      },
      "cell_type": "code",
      "source": [
        "import numpy as np # linear algebra\n",
        "import pandas as pd # data processing, CSV file I/O (e.g. pd.read_csv)\n",
        "import matplotlib.pyplot as plt #Used for ploting\n",
        "import seaborn as sns #used for Visualiztion\n",
        "\n",
        "# Input data files are available in the \"../input/\" directory.\n",
        "\n",
        "import os\n",
        "import plotly.graph_objs as go\n",
        "import plotly.offline as py\n",
        "py.init_notebook_mode(connected=True)\n",
        "import plotly.tools as tls\n",
        "# print(os.listdir(\"\"))\n",
        "\n",
        "# Any results you write to the current directory are saved as output.\n",
        "\n",
        "from sklearn.model_selection import train_test_split, GridSearchCV\n",
        "from sklearn.feature_extraction.text import CountVectorizer  #could have used tf-idf feature extractor\n",
        "from sklearn.naive_bayes import MultinomialNB,GaussianNB\n",
        "from sklearn.metrics import accuracy_score,confusion_matrix,classification_report\n",
        "from sklearn.tree import DecisionTreeRegressor\n",
        "from sklearn import svm\n",
        "from sklearn.ensemble import RandomForestClassifier"
      ],
      "execution_count": null,
      "outputs": []
    },
    {
      "cell_type": "markdown",
      "source": [
        "# New Section"
      ],
      "metadata": {
        "id": "F72GTXnjwOjP"
      }
    },
    {
      "metadata": {
        "_cell_guid": "1398e7e8-c9eb-4ae4-9b9d-a5e8bcd4ed14",
        "_uuid": "e923b29849409c0e1d0a76b750f7860aaed8d169",
        "id": "4fSJc4yXwL5r"
      },
      "cell_type": "markdown",
      "source": [
        "Intially we are taking two data sets **Trainmatches.csv** and **TrainDeliveries.csv** and load them into a data frame."
      ]
    },
    {
      "metadata": {
        "_cell_guid": "79c7e3d0-c299-4dcb-8224-4455121ee9b0",
        "collapsed": true,
        "_uuid": "d629ff2d2480ee46fbb7e2d37f6b5fab8052498a",
        "trusted": false,
        "id": "OxL2u2ebwL5t"
      },
      "cell_type": "code",
      "source": [
        "# Reading the Deliveries and Matches Dataset\n",
        "TRM=pd.read_csv(\"Trainmatches.csv\")\n",
        "TRM.index=TRM[\"id\"]\n",
        "TRD=pd.read_csv(\"TrainDeliveries.csv\")"
      ],
      "execution_count": null,
      "outputs": []
    },
    {
      "metadata": {
        "_cell_guid": "0dc48470-6cdc-4ecc-9d12-abf5357088f6",
        "_uuid": "4242580acd7e93e5609de2f48fc9103a18ffc3e0",
        "trusted": false,
        "collapsed": true,
        "id": "wzDUaBVLwL5t"
      },
      "cell_type": "code",
      "source": [
        "TRM.head()"
      ],
      "execution_count": null,
      "outputs": []
    },
    {
      "metadata": {
        "_cell_guid": "71ac2a8d-3080-41b9-92ef-139301a784ea",
        "collapsed": true,
        "_uuid": "c8ca55c9997670b974d39b1645cf6ef32f5e5127",
        "id": "EkXldbivwL5t"
      },
      "cell_type": "markdown",
      "source": [
        "Intially we plot a histogram to find number of matches that each team won in IPL and also find which teams stood out."
      ]
    },
    {
      "metadata": {
        "_cell_guid": "4f166a42-994c-4c73-8d24-055dc4d11b90",
        "_uuid": "0fa5c065829927510d846259aacff1eedf62a888",
        "scrolled": true,
        "trusted": false,
        "collapsed": true,
        "id": "u3tUb1qBwL5u"
      },
      "cell_type": "code",
      "source": [
        "matches_played_byteams=pd.concat([TRM['team1'],TRM['team2']])\n",
        "matches_played_byteams=matches_played_byteams.value_counts().reset_index()\n",
        "matches_played_byteams.columns=['Team','Total Matches']\n",
        "matches_played_byteams['wins']=TRM['winner'].value_counts().reset_index()['winner']\n",
        "matches_played_byteams.set_index('Team',inplace=True)\n",
        "\n",
        "trace1 = go.Bar(\n",
        "    x=matches_played_byteams.index,\n",
        "    y=matches_played_byteams['Total Matches'],\n",
        "    name='Total Matches'\n",
        ")\n",
        "trace2 = go.Bar(\n",
        "    x=matches_played_byteams.index,\n",
        "    y=matches_played_byteams['wins'],\n",
        "    name='Matches Won'\n",
        ")\n",
        "\n",
        "data = [trace1, trace2]\n",
        "layout = go.Layout(\n",
        "    barmode='stack'\n",
        ")\n",
        "\n",
        "fig = go.Figure(data=data, layout=layout)\n",
        "py.iplot(fig, filename='stacked-bar')\n"
      ],
      "execution_count": null,
      "outputs": []
    },
    {
      "metadata": {
        "_cell_guid": "cad88b7a-23d5-4b2e-8a3f-33f6c9a9e488",
        "_uuid": "6d0dd1cebcbd09cc9575b6bf0fbb29034522ce81",
        "id": "lq9GaIC6wL5v"
      },
      "cell_type": "markdown",
      "source": [
        "This graph shows that total matches that each team played and the number of matches they won."
      ]
    },
    {
      "metadata": {
        "_cell_guid": "ade9295c-dcfa-4873-bbc3-b3e3351d0c14",
        "_uuid": "b7ed49573d104cf4be74a1b19f0b812950128c25",
        "id": "apE9ZMvDwL5v"
      },
      "cell_type": "markdown",
      "source": [
        "*** DROPPING THE NULL VALUES ***"
      ]
    },
    {
      "metadata": {
        "_cell_guid": "4a32147d-9657-46fd-9fc7-34ad1b4cfe50",
        "_uuid": "8df7e9b19bf42de4f1e11a4c61ccbeb368402783",
        "id": "I2cKOn_SwL5w"
      },
      "cell_type": "markdown",
      "source": [
        "Checking up the null values and damaged data values in the dataset and removing them will give the correct ouput ."
      ]
    },
    {
      "metadata": {
        "_cell_guid": "5c6356f8-f553-49b5-a2e5-b7ab364efd23",
        "_uuid": "9c301cddfa37b0b1d09eca5340854d669f8197c6",
        "trusted": false,
        "collapsed": true,
        "id": "6XWRmT9NwL5w"
      },
      "cell_type": "code",
      "source": [
        "\"\"\"\n",
        "null_columns=TRM.columns[TRM.isnull().any()]\n",
        "TRM[null_columns].isnull().sum()\n",
        "\n",
        "print(TRM[TRM[\"winner\"].isnull()][null_columns])\n",
        "# Dropping the row\n",
        "TRM=TRM.drop(index=301)\n",
        "print(TRM[TRM[\"winner\"].isnull()][null_columns])\n",
        "\"\"\""
      ],
      "execution_count": null,
      "outputs": []
    },
    {
      "metadata": {
        "_cell_guid": "2045bdf2-5260-4584-bcf4-87a46f1251b8",
        "_uuid": "3b6d491b4c736567669257cf5ec082aca98cc682",
        "id": "105mHtGXwL5x"
      },
      "cell_type": "markdown",
      "source": [
        "Now create the feature table to train our data and create the table . All the matches are identified by the *** match_id *** so we can make this field as the primary_index of the  feature table and we have to find that total matches played .\n",
        "From the given dataset we can infer that match_id lies from 1 to 500 matches.\n",
        "Now setting up the team details like which teams are going to play in the match on the respective id's.So add *** Team A *** and *** Team B *** columns to the *** FT *** Dataframe"
      ]
    },
    {
      "metadata": {
        "_cell_guid": "e91234f4-5d89-4350-92a4-ba20bb5fd8b4",
        "_uuid": "6eb67360ac4f07dcd6a6e938e8d92715c470a3c1",
        "trusted": false,
        "collapsed": true,
        "id": "VmNIPuPOwL5x"
      },
      "cell_type": "code",
      "source": [
        "# Creating Feature Table\n",
        "FT=pd.DataFrame()\n",
        "\n",
        "# Making match_id as the index\n",
        "FT[\"match_id\"]=TRM[\"id\"]\n",
        "FT.index=FT[\"match_id\"]\n",
        "\n",
        "print('Total Matches Played:',TRM.shape[0])"
      ],
      "execution_count": null,
      "outputs": []
    },
    {
      "metadata": {
        "_cell_guid": "4cae78f1-a92d-41d8-b1ef-3c40ec63db2f",
        "_uuid": "fae6aac719b422ca9d2d97de5aac0e50404fa440",
        "id": "pW-zN_82wL5x"
      },
      "cell_type": "markdown",
      "source": [
        "Now setting up the team details like which teams are going to play in the match on the respective id's.So add *** Team A *** and *** Team B *** columns to the *** FT *** Dataframe"
      ]
    },
    {
      "metadata": {
        "_cell_guid": "61ee3f27-2209-4400-bf9c-b876b593c985",
        "_uuid": "b7f200e7737fe9ca46a049c5779cff01b0e68abf",
        "trusted": false,
        "collapsed": true,
        "id": "a7rb7lOiwL5x"
      },
      "cell_type": "code",
      "source": [
        "# Adding Team Deatils\n",
        "FT[\"Team A\"]=TRM[\"team1\"]\n",
        "FT[\"Team B\"]=TRM[\"team2\"]\n",
        "FT = FT.drop('match_id', 1)\n",
        "print('Teams:',FT['Team A'].unique())"
      ],
      "execution_count": null,
      "outputs": []
    },
    {
      "metadata": {
        "_cell_guid": "4dbcac79-7284-494f-845a-c78f2f6ff398",
        "_uuid": "1648011ef721807a5e5e549f796f822a64ed5b0e",
        "id": "mPQQ1T2RwL5x"
      },
      "cell_type": "markdown",
      "source": [
        "** SEASON FEATURE **"
      ]
    },
    {
      "metadata": {
        "_cell_guid": "8f799d0d-cac8-462c-bee6-37fe9404278f",
        "collapsed": true,
        "_uuid": "b9e03c06744032b5b4a2aa4bb84ac59fa39aa5f5",
        "id": "BVvNzfRKwL5x"
      },
      "cell_type": "markdown",
      "source": [
        "TIme is a important feature for prediciting match outcome.Since the time period reputates the growth and their downfalls statistically.In this dataset *** season *** feature act as the time period of every match.Now we justify why we taken season as our feature.We also need winning_team result to explorate their winning structure."
      ]
    },
    {
      "metadata": {
        "_cell_guid": "2a42c967-a33a-4dd0-be94-530ccfb2556d",
        "_uuid": "ad1bd3c41b2fd425233ba1af8ade6594bf36c6e6",
        "trusted": false,
        "collapsed": true,
        "id": "QzAmgzPPwL5y"
      },
      "cell_type": "code",
      "source": [
        "# Adding season and winner to the feature table\n",
        "FT[\"season\"]=TRM[\"season\"]\n",
        "FT[\"winner\"]=TRM[\"winner\"]\n",
        "\n",
        "#creating the season and team list\n",
        "season_list=FT['season'].unique()\n",
        "team_list=FT['Team A'].unique()\n",
        "\n",
        "#Now check the frequency of each team won during every season\n",
        "\n",
        "temp_data=pd.DataFrame() # Creating a temporary dataframe\n",
        "temp_data[\"Team\"]=team_list\n",
        "temp_data.index=temp_data[\"Team\"]\n",
        "\n",
        "for s in season_list:\n",
        "    winner_season=FT.loc[FT['season']== s,\"winner\"] # get the series of winners at the particular season\n",
        "    t=winner_season.value_counts() # count the value of winning_count of each team\n",
        "    t=t.to_frame() # Series is not efficient to work converting to a dataframe\n",
        "    temp_data[\"win_count\"]=t[\"winner\"]\n",
        "    temp_data['win_count']=temp_data['win_count'].fillna(0)\n",
        "    temp_data['win_count']=temp_data['win_count'].astype(int)\n",
        "    tit=\"season \"+str(s)\n",
        "    fig = plt.figure(figsize=(8,4))\n",
        "    temp_data.plot(kind='bar',title=tit)"
      ],
      "execution_count": null,
      "outputs": []
    },
    {
      "metadata": {
        "_cell_guid": "6a7fefe3-aa0b-4a4b-b240-5fae24003d00",
        "collapsed": true,
        "_uuid": "8bc710ef0b8ee82c6e8e22af04a60859ca0f0dbb",
        "id": "WfLMKecewL5y"
      },
      "cell_type": "markdown",
      "source": [
        "Hence from the above bar plots we can infer that the team_performance varies seasonally.So we concluded the seasonal values as an important feature to the feature table."
      ]
    },
    {
      "metadata": {
        "_cell_guid": "72dd5b6a-efeb-4ebf-a2b1-ff3fedda4576",
        "_uuid": "fdd31cb2d6da88fccd222c10d4fdb5830ea2652e",
        "id": "WMwsS1_ywL5y"
      },
      "cell_type": "markdown",
      "source": [
        "*** winner *** is our label we dont wanna add this feature by now we can add it later"
      ]
    },
    {
      "metadata": {
        "_cell_guid": "3eaf5d5e-0cce-45de-a23b-8d4638043909",
        "collapsed": true,
        "_uuid": "f6906c434ad174fa2fc6856ae620864a4aea0f79",
        "trusted": false,
        "id": "teVRkH7XwL5z"
      },
      "cell_type": "code",
      "source": [
        "FT = FT.drop('winner', 1)"
      ],
      "execution_count": null,
      "outputs": []
    },
    {
      "metadata": {
        "_cell_guid": "a95d3cea-f00c-43c2-884a-58ac3b020013",
        "_uuid": "8b75af1539bdb5d01ff1e9c97d963348f484654b",
        "id": "FQdIDNHOwL50"
      },
      "cell_type": "markdown",
      "source": [
        "*** TOSS FEATURE ***"
      ]
    },
    {
      "metadata": {
        "_cell_guid": "e9dcf50a-3daa-431a-9831-64d119c80eb6",
        "_uuid": "c2cfd34989b8b2c33dad1d66506dca346acc3524",
        "trusted": false,
        "collapsed": true,
        "id": "8dCstCvEwL50"
      },
      "cell_type": "code",
      "source": [
        "teams=['Team1','Team2','Team3','Team4','Team5','Team6','Team7','Team8','Team9','Team10','Team11']\n",
        "t=pd.Series(teams)\n",
        "# finding the frequency of toss winners and the match winners to correlate\n",
        "temp_toss_winner=pd.DataFrame()\n",
        "temp_toss_winner['Team']=t.values\n",
        "temp_match_winner=pd.DataFrame()\n",
        "temp_match_winner['Team']=t.values\n",
        "\n",
        "#Caluclating toss_winning and match winning frequency of each team\n",
        "temp_toss_winner['Count'] = temp_toss_winner['Team'].map(TRM['toss_winner'].value_counts())\n",
        "temp_match_winner['Count']=temp_match_winner['Team'].map(TRM['winner'].value_counts())\n",
        "\n",
        "plt.subplots(figsize=(8,6))\n",
        "ax=TRM['toss_winner'].value_counts().plot.bar(width=0.8)\n",
        "for p in ax.patches:\n",
        "    ax.annotate(format(p.get_height()), (p.get_x()+0.15, p.get_height()+1))\n",
        "plt.title(\"Toss Winner\")\n",
        "plt.show()\n",
        "\n",
        "plt.subplots(figsize=(8,6))\n",
        "ax=TRM['winner'].value_counts().plot.bar(width=0.8)\n",
        "for p in ax.patches:\n",
        "    ax.annotate(format(p.get_height()), (p.get_x()+0.15, p.get_height()+1))\n",
        "plt.title(\"Match Winner\")\n",
        "plt.show()"
      ],
      "execution_count": null,
      "outputs": []
    },
    {
      "metadata": {
        "_cell_guid": "fef984f0-6808-4f84-a991-9e6059cdd51d",
        "_uuid": "59b151e812198afbed94a084070bee2d2395e79b",
        "id": "H-igkL22wL50"
      },
      "cell_type": "markdown",
      "source": [
        "We have to know whether toss won act as a important role in winning decision.To check we have to visulaize a probablitic calculation."
      ]
    },
    {
      "metadata": {
        "_cell_guid": "6e277e4c-7c73-4924-b441-ea215edab64b",
        "_uuid": "57c3fe9e0fa4f25a9f0e6fcb56ce6ff72e7033cc",
        "trusted": false,
        "collapsed": true,
        "id": "RIoEuCctwL51"
      },
      "cell_type": "code",
      "source": [
        "df=TRM[TRM['toss_winner']==TRM['winner']]\n",
        "slices=[len(df),(577-len(df))]\n",
        "labels=['yes','no']\n",
        "plt.pie(slices,labels=labels,startangle=90,shadow=True,explode=(0,0),autopct='%1.1f%%',colors=['r','g'])\n",
        "fig = plt.gcf()\n",
        "fig.set_size_inches(6,6)\n",
        "plt.show()"
      ],
      "execution_count": null,
      "outputs": []
    },
    {
      "metadata": {
        "_cell_guid": "ba9e4cfb-9d23-4301-a463-e3325a7d078d",
        "_uuid": "0d307daa4ce60cbc4102cb803071286f68e6c8db",
        "id": "QL4tBEvMwL51"
      },
      "cell_type": "markdown",
      "source": [
        "From this correaltion graph we can identify that toss winning also act as a major feature in predicting the result .From the graph we can infer that 43.7% toss winners are match winners."
      ]
    },
    {
      "metadata": {
        "_cell_guid": "60edb823-ee26-425c-a7a6-a0c4c0358ac5",
        "collapsed": true,
        "_uuid": "4b066fff3b631ffde2b4c854d699910ec8db6f76",
        "trusted": false,
        "id": "pen1MVO6wL51"
      },
      "cell_type": "code",
      "source": [
        "# Adding the toss_winner to the feature table\n",
        "FT[\"toss_winner\"]=TRM[\"toss_winner\"]"
      ],
      "execution_count": null,
      "outputs": []
    },
    {
      "metadata": {
        "_cell_guid": "2a602b20-d406-4ab5-96c6-14e7547a26be",
        "collapsed": true,
        "_uuid": "48ce427bcbc2cb15147b6e4f80218a8e2df7b1ed",
        "id": "9OxwJ_pSwL51"
      },
      "cell_type": "markdown",
      "source": [
        "** DUCKWORTH-LEWIS METHOD **"
      ]
    },
    {
      "metadata": {
        "_cell_guid": "4ce78219-0ddd-4fdc-908a-38ec2f41d450",
        "_uuid": "8216e06522251644e660529d6c3b1ec7018f3d61",
        "id": "c01UvkiewL51"
      },
      "cell_type": "markdown",
      "source": [
        "Duckworth-Lewis method(D/L method) is a mathematical function defined to set and calculate the target score for the team batting second in One day international cricket matches. It is the most complex and irritating function for the audience who are watching cricket. When duck-worth lewis method is appiled it may errupt the entire prediction system so we should as a feature table to avoid this type of scenarios."
      ]
    },
    {
      "metadata": {
        "_cell_guid": "afc261e3-a816-4cc1-9828-da0826cf33af",
        "_uuid": "7e9a5eb143d5b124c549fd8810f8d9c1505b6ce4",
        "trusted": false,
        "collapsed": true,
        "id": "kljSRyDKwL52"
      },
      "cell_type": "code",
      "source": [
        "\n",
        "dl=TRM.loc[TRM['dl_applied'] == 1]\n",
        "dl"
      ],
      "execution_count": null,
      "outputs": []
    },
    {
      "metadata": {
        "_cell_guid": "af133755-d5ea-49a6-990f-53b5eaaa9859",
        "collapsed": true,
        "_uuid": "adbbfc02787a8ed4760d65c818258c8d406a056b",
        "id": "pPgEo_qOwL52"
      },
      "cell_type": "markdown",
      "source": [
        "Totally 10 matches is influenced by dl method the only go is to remove these 10 matches or add this as a feature to the feature table.But I select to add this as feature beacause our model will be trained to predict the *** dl applied mathches ***."
      ]
    },
    {
      "metadata": {
        "_cell_guid": "cebc775a-e10d-444c-a955-225d26f01c3f",
        "_uuid": "1f25c0d85abefbe345220629b68fcbf58a23749e",
        "trusted": false,
        "collapsed": true,
        "id": "M5ULFGW_wL52"
      },
      "cell_type": "code",
      "source": [
        "FT[\"dl_applied\"]=TRM[\"dl_applied\"]\n",
        "FT"
      ],
      "execution_count": null,
      "outputs": []
    },
    {
      "metadata": {
        "_cell_guid": "a3ae27d5-334a-4503-8d8d-464ef4655880",
        "_uuid": "645f66da8edcf4735afbc38b9c7b142ca6fa4f7f",
        "id": "LFP0sQZdwL52"
      },
      "cell_type": "markdown",
      "source": [
        "** VENUE FEATURE **"
      ]
    },
    {
      "metadata": {
        "_cell_guid": "26a0aada-5b3c-46c5-928d-15a9f97f59e9",
        "_uuid": "b7479a035df0103bbb636d5881229af8966563d6",
        "trusted": false,
        "collapsed": true,
        "id": "mi0NEmGqwL52"
      },
      "cell_type": "code",
      "source": [
        "plt.subplots(figsize=(10,15))\n",
        "ax = TRM['venue'].value_counts().sort_values(ascending=True).plot.barh(width=.9)\n",
        "ax.set_xlabel('Grounds')\n",
        "ax.set_ylabel('count')\n",
        "plt.show()"
      ],
      "execution_count": null,
      "outputs": []
    },
    {
      "metadata": {
        "_cell_guid": "80cc6595-c1c7-4efe-a747-d19a436f70d0",
        "_uuid": "222eed1593d80d68a2ad933047ad6a9efec3eb6a",
        "id": "D8HpgADgwL53"
      },
      "cell_type": "markdown",
      "source": [
        "From this visualization we can infer that most matches are conducted only on major 7 statdiums .From this we can draw to a conclusion that stadium does not play a major role in deciding the victory compare to other features."
      ]
    },
    {
      "metadata": {
        "_cell_guid": "318b52e5-2890-4849-b832-2e9aec3a2b61",
        "_uuid": "26259215db6b865567b73c2b4c4817a4a42d4ad6",
        "id": "zONvipKqwL53"
      },
      "cell_type": "markdown",
      "source": [
        "** TEAM DELIVERIES **"
      ]
    },
    {
      "metadata": {
        "_cell_guid": "c534969b-9064-4686-9596-cce47051bca7",
        "_uuid": "d613badaa8d656a2f04d9bc2b9713cb2bb9c5be0",
        "id": "XOVpzgp1wL53"
      },
      "cell_type": "markdown",
      "source": [
        "*** RUNS PER OVER ACROSS SEASON ***"
      ]
    },
    {
      "metadata": {
        "_cell_guid": "9e636923-e4a6-4457-bd7b-b2682edc9be1",
        "_uuid": "9b11b1f2c332d1586aa649fd5dc22b57bbed250c",
        "trusted": false,
        "collapsed": true,
        "id": "KtybdC_nwL53"
      },
      "cell_type": "code",
      "source": [
        "runs_per_over = TRD.pivot_table(index=['over'],columns='batting_team',values='total_runs',aggfunc=sum)\n",
        "runs_per_over[(matches_played_byteams[matches_played_byteams['Total Matches']>50].index)].plot(color=[\"b\", \"r\", \"#Ffb6b2\", \"g\",'brown','y','#6666ff','black','#FFA500']) #plotting graphs for teams that have played more than 100 matches\n",
        "x=[1,2,3,4,5,6,7,8,9,10,11,12,13,14,15,16,17,18,19,20]\n",
        "plt.xticks(x)\n",
        "plt.ylabel('total runs scored')\n",
        "fig=plt.gcf()\n",
        "fig.set_size_inches(16,8)\n",
        "plt.show()"
      ],
      "execution_count": null,
      "outputs": []
    },
    {
      "metadata": {
        "_cell_guid": "aff5f46a-eeae-4766-abc4-4b13e54e6faf",
        "_uuid": "b7a598e7b451b3b6b182d6bf0c3be8b9ac24df12",
        "id": "Me1-GHjawL53"
      },
      "cell_type": "markdown",
      "source": [
        "From this visualization we can say that we have to calculate the batting and bowling average of each team to calcuate the overall performance."
      ]
    },
    {
      "metadata": {
        "_cell_guid": "7abc5d08-99a2-4c99-8c9e-d27614dc0859",
        "_uuid": "9f4b1ad9a4ecf1db21ace77906d97b81d210ed30",
        "scrolled": false,
        "trusted": false,
        "collapsed": true,
        "id": "y2e3Elo-wL54"
      },
      "cell_type": "code",
      "source": [
        "def Batting_Averager(df):\n",
        "    over_average=pd.DataFrame()\n",
        "    overs=list(range(1, 21))\n",
        "    o_a=[]\n",
        "    o=pd.Series(overs)\n",
        "    over_average['overs']=o.values\n",
        "    for i in overs:\n",
        "        over_temp_frame=df.loc[df['over']== i]\n",
        "        total_bruns=over_temp_frame['bye_runs'].sum()\n",
        "        total_lbruns=over_temp_frame['legbye_runs'].sum()\n",
        "        b_non_zero=over_temp_frame.loc[over_temp_frame['batsman_runs'] != 0,\"batsman_runs\"].sum()\n",
        "        b_dot=over_temp_frame.loc[over_temp_frame['batsman_runs']==0,\"batsman_runs\"].count()\n",
        "        b_dis=over_temp_frame.loc[over_temp_frame['dismissal_kind'] != 'NaN',\"dismissal_kind\"].count()\n",
        "        oa=(1*total_bruns+1*total_lbruns+2*b_non_zero-1*b_dot+-3*b_dis)/5\n",
        "        o_a.append(oa)\n",
        "    o_a=pd.Series(o_a)\n",
        "    over_average['average']=o_a.values\n",
        "    bat_av=over_average[\"average\"].mean()\n",
        "    return bat_av\n",
        "\n",
        "\n",
        "def Bowling_Averager(df):\n",
        "    over_average=pd.DataFrame()\n",
        "    overs=list(range(1, 21))\n",
        "    o_a=[]\n",
        "    o=pd.Series(overs)\n",
        "    over_average['overs']=o.values\n",
        "    for i in overs:\n",
        "        over_temp_frame=df.loc[df['over']== i]\n",
        "        total_wr=over_temp_frame['wide_runs'].sum()\n",
        "        total_nb=over_temp_frame['noball_runs'].sum()\n",
        "        total_pr=over_temp_frame['penalty_runs'].sum()\n",
        "        total_er=over_temp_frame['extra_runs'].sum()\n",
        "        b_non_zero=over_temp_frame.loc[over_temp_frame['total_runs'] != 0,\"total_runs\"].sum()\n",
        "        b_dot=over_temp_frame.loc[over_temp_frame['total_runs']==0,\"total_runs\"].count()\n",
        "        b_dis=over_temp_frame.loc[over_temp_frame['dismissal_kind'] != 'NaN',\"dismissal_kind\"].count()\n",
        "        oa=(-1*total_wr+-1*total_nb+-2*total_pr+-1*total_er+-2*b_non_zero+5*b_dot+10*b_dis)/7\n",
        "        o_a.append(oa)\n",
        "    o_a=pd.Series(o_a)\n",
        "    over_average['average']=o_a.values\n",
        "    bow_av=over_average[\"average\"].mean()\n",
        "    return(bow_av)\n",
        "\n",
        "\n",
        "\n",
        "#creating team_performance dataframe\n",
        "team_performance=pd.DataFrame()\n",
        "team_performance[\"match_id\"]=TRM[\"id\"]\n",
        "team_performance.index=team_performance[\"match_id\"]\n",
        "team_performance[\"Team_A_Batting_Average\"]=0.0\n",
        "team_performance[\"Team_A_Bowling_Average\"]=0.0\n",
        "team_performance[\"Team_A_Total_Runs\"]=0\n",
        "team_performance[\"Team_B_Batting_Average\"]=0.0\n",
        "team_performance[\"Team_B_Bowling_Average\"]=0.0\n",
        "team_performance[\"Team_B_Total_Runs\"]=0\n",
        "team_performance[\"Team_A_overall\"]=0.0\n",
        "team_performance[\"Team_B_overall\"]=0.0\n",
        "team_performance[\"super_over\"]='0'\n",
        "\n",
        "# creating match_id list\n",
        "match_id_list=TRM[\"id\"].unique()\n",
        "overs_list=[1,2,3,4,5,6,7,8,9,10,11,12,13,14,15,16,17,18,19,20]\n",
        "\n",
        "\n",
        "for m in match_id_list:\n",
        "    match_frame=TRD.loc[TRD[\"match_id\"]==m]\n",
        "    temp=FT.loc[m,\"Team A\":\"Team B\"]\n",
        "    team_dict=temp.to_dict()\n",
        "    FLAG=False\n",
        "    team_perform_dict={\"match_id\":m,\"Team_A_Batting_Average\":0.0,\"Team_A_Bowling_Average\":0.0,\"Team_A_Total_Runs\":0,\"Team_B_Batting_Average\":0.0,\"Team_B_Bowling_Average\":0.0,\"Team_B_Total_Runs\":0,\"Team_A_overall\":0.0,\"Team_B_overall\":0.0,\"super_over\":'0'}\n",
        "    super_over=match_frame['is_super_over'].sum()\n",
        "\n",
        "    if super_over==0:\n",
        "        innings=match_frame[\"inning\"].unique()\n",
        "        super_over_innings=[]\n",
        "    else :\n",
        "        super_over_run={\"Team_A_run\":0,\"Team_B_run\":0}\n",
        "        FLAG=True\n",
        "        super_over_innings=[3,4]\n",
        "\n",
        "    for i in innings:\n",
        "        innings_frame=pd.DataFrame()\n",
        "        innings_frame=match_frame.loc[match_frame['inning'] == i]\n",
        "        batting_team=innings_frame.loc[innings_frame['inning']== i,\"batting_team\"].values[0]\n",
        "        bowling_team=innings_frame.loc[innings_frame['inning']== i,\"bowling_team\"].values[0]\n",
        "\n",
        "        if(team_dict['Team A']==batting_team):\n",
        "            batting_team_frame=innings_frame[['over','ball','bye_runs','legbye_runs','batsman_runs','dismissal_kind']]\n",
        "            bowling_team_frame=innings_frame[['over','ball','wide_runs','noball_runs','penalty_runs','extra_runs','total_runs','dismissal_kind']]\n",
        "            team_perform_dict[\"Team_A_Batting_Average\"]=Batting_Averager(batting_team_frame)\n",
        "            team_perform_dict[\"Team_B_Bowling_Average\"]=Bowling_Averager(bowling_team_frame)\n",
        "            team_perform_dict[\"Team_A_Total_Runs\"] =innings_frame['total_runs'].sum()\n",
        "\n",
        "        elif(team_dict['Team B']==batting_team):\n",
        "            batting_team_frame=innings_frame[['over','ball','bye_runs','legbye_runs','batsman_runs','dismissal_kind']]\n",
        "            bowling_team_frame=innings_frame[['over','ball','wide_runs','noball_runs','penalty_runs','extra_runs','total_runs','dismissal_kind']]\n",
        "            team_perform_dict[\"Team_B_Batting_Average\"]=Batting_Averager(batting_team_frame)\n",
        "            team_perform_dict[\"Team_A_Bowling_Average\"]=Bowling_Averager(bowling_team_frame)\n",
        "            team_perform_dict[\"Team_B_Total_Runs\"]=innings_frame['total_runs'].sum()\n",
        "\n",
        "    for i in super_over_innings:\n",
        "        innings_frame=pd.DataFrame()\n",
        "        innings_frame=match_frame.loc[match_frame['inning']==i]\n",
        "        batting_team=innings_frame.loc[innings_frame['inning']== i,\"batting_team\"].values[0]\n",
        "        if(team_dict['Team A']==batting_team):\n",
        "            super_over_run[\"Team_A_run\"]=innings_frame['total_runs'].sum()\n",
        "        elif(team_dict['Team B']==batting_team):\n",
        "            super_over_run[\"Team_B_run\"]=innings_frame['total_runs'].sum()\n",
        "\n",
        "    if FLAG:\n",
        "        if super_over_run[\"Team_A_run\"]>super_over_run[\"Team_B_run\"]:\n",
        "            team_perform_dict['super_over']='A'\n",
        "        elif super_over_run[\"Team_B_run\"]>super_over_run[\"Team_A_run\"]:\n",
        "            team_perform_dict['super_over']='B'\n",
        "\n",
        "    team_perform_dict[\"Team_A_overall\"]=(team_perform_dict[\"Team_A_Batting_Average\"]+team_perform_dict[\"Team_A_Bowling_Average\"])/2\n",
        "    team_perform_dict[\"Team_B_overall\"]=(team_perform_dict[\"Team_B_Batting_Average\"]+team_perform_dict[\"Team_B_Bowling_Average\"])/2\n",
        "\n",
        "\n",
        "    df=pd.DataFrame([team_perform_dict],columns=team_perform_dict.keys())\n",
        "    df.index=df[\"match_id\"]\n",
        "    match=df[\"match_id\"].unique()\n",
        "    team_performance.loc[match,:]= df.loc[df[\"match_id\"],:]\n",
        "\n",
        "\n",
        "team_performance"
      ],
      "execution_count": null,
      "outputs": []
    },
    {
      "metadata": {
        "_cell_guid": "10e69b02-4451-4bc8-9b05-fc2e77a108fa",
        "_uuid": "12af9408bdea28cc7ca3fddc11b32d5aa401074c",
        "id": "nAi7JDE4wL5-"
      },
      "cell_type": "markdown",
      "source": [
        "**  PLAYER OF EACH MATCH **"
      ]
    },
    {
      "metadata": {
        "_cell_guid": "335a18ca-137d-4921-84ba-11412482d2aa",
        "_uuid": "0ad3f23d9a5699944ec1812d00a74a6d37fc010a",
        "id": "jrmT_JQSwL5-"
      },
      "cell_type": "markdown",
      "source": [
        "Player of the match will be the one who denots the extraordinary work and most probably they belong to the winning team .So we may consider this feature also a bonus one to enhance our model.\n",
        "    "
      ]
    },
    {
      "metadata": {
        "_cell_guid": "ddacc058-fbc6-452b-aeac-a27269e78fb0",
        "_uuid": "e51209fc1f565f45acd741643b87da295775b0a8",
        "trusted": false,
        "collapsed": true,
        "id": "Il48U1pPwL5-"
      },
      "cell_type": "code",
      "source": [
        "player_match_frame=pd.DataFrame()\n",
        "player_match_frame[\"match_id\"]=TRM[\"id\"]\n",
        "player_match_frame.index=player_match_frame[\"match_id\"]\n",
        "player_match_frame[\"man_of_match\"]='NOT_IN_TEAM'\n",
        "match_id_list=TRM[\"id\"].unique()\n",
        "\n",
        "for m in match_id_list:\n",
        "    player=TRM.loc[TRM['id']== m,\"player_of_match\"].values[0]\n",
        "    match_frame=TRD.loc[TRD[\"match_id\"]==m]\n",
        "    temp=FT.loc[m,\"Team A\":\"Team B\"]\n",
        "    team_dict=temp.to_dict()\n",
        "    TEAM_A_BATSMAN=match_frame.loc[match_frame['batting_team']==team_dict[\"Team A\"],[\"batsman\",\"non_striker\"]]\n",
        "    TEAM_A_BOWLERS=match_frame.loc[match_frame['bowling_team']==team_dict[\"Team A\"],[\"bowler\"]]\n",
        "    TEAM_A_MEMBERS=set(list(TEAM_A_BATSMAN[\"batsman\"].unique())+list(TEAM_A_BATSMAN[\"non_striker\"].unique())+list(TEAM_A_BOWLERS[\"bowler\"].unique()))\n",
        "    TEAM_B_BATSMAN=match_frame.loc[match_frame['batting_team']==team_dict[\"Team B\"],[\"batsman\",\"non_striker\"]]\n",
        "    TEAM_B_BOWLERS=match_frame.loc[match_frame['bowling_team']==team_dict[\"Team B\"],[\"bowler\"]]\n",
        "    TEAM_B_MEMBERS=set(list(TEAM_B_BATSMAN[\"batsman\"].unique())+list(TEAM_B_BATSMAN[\"non_striker\"].unique())+list(TEAM_B_BOWLERS[\"bowler\"].unique()))\n",
        "    if player in TEAM_A_MEMBERS:\n",
        "        player_match_frame.at[m, 'man_of_match'] = 'A'\n",
        "    elif player in TEAM_B_MEMBERS:\n",
        "        player_match_frame.at[m,\"man_of_match\"]='B'\n",
        "player_match_frame\n",
        "\n"
      ],
      "execution_count": null,
      "outputs": []
    },
    {
      "metadata": {
        "_cell_guid": "68635ba6-760b-4793-8459-f88f233e5b44",
        "_uuid": "6b30f3cc2180ee69af0a01507cb4f756a9f61d85",
        "trusted": false,
        "collapsed": true,
        "id": "VXfPJbvgwL5_"
      },
      "cell_type": "code",
      "source": [
        "winner_frame=pd.DataFrame()\n",
        "winner_frame[\"match_id\"]=TRM[\"id\"]\n",
        "winner_frame.index=winner_frame[\"match_id\"]\n",
        "winner_frame[\"winner\"]=0\n",
        "match_id_list=TRM[\"id\"].unique()\n",
        "\n",
        "for m in match_id_list:\n",
        "    winner=TRM.loc[TRM['id']== m,\"winner\"].values[0]\n",
        "    temp=FT.loc[m,\"Team A\":\"Team B\"]\n",
        "    team_dict=temp.to_dict()\n",
        "    if(winner==team_dict[\"Team A\"]):\n",
        "        winner_frame.at[m, 'winner'] = 0\n",
        "    elif(winner==team_dict[\"Team B\"]):\n",
        "        winner_frame.at[m,'winner']=1\n",
        "\n",
        "winner_frame\n",
        ""
      ],
      "execution_count": null,
      "outputs": []
    },
    {
      "metadata": {
        "_cell_guid": "ebd922dc-6aa6-48cd-8c4d-fde7058366d3",
        "_uuid": "0f9e02a1b7b36da33374c5b8cc6bb4a8a5d4a477",
        "id": "ZMRn_9WWwL5_"
      },
      "cell_type": "markdown",
      "source": [
        "From this analytics we can infer that player_of_match given in TrainMatchesdataset is collapsed and they are giving the mismatched result.So We can neglect this feature."
      ]
    },
    {
      "metadata": {
        "_cell_guid": "13c2a812-0d87-4232-8737-b710a81e1440",
        "_uuid": "21d5e7745a71e01ee081cfc95c7cfb638c054144",
        "id": "m5Le3tM-wL5_"
      },
      "cell_type": "markdown",
      "source": [
        "** PREPARATION OF FEATURE TABLE **"
      ]
    },
    {
      "metadata": {
        "_cell_guid": "14195dd6-ad52-4942-b67e-303854911f2f",
        "collapsed": true,
        "_uuid": "3ddc20fad6c50818abd841ce50f4add66d3c2f55",
        "trusted": false,
        "id": "N7yYXTKYwL5_"
      },
      "cell_type": "code",
      "source": [
        "def Batting_Averager(df):\n",
        "    over_average=pd.DataFrame()\n",
        "    overs=list(range(1, 21))\n",
        "    o_a=[]\n",
        "    o=pd.Series(overs)\n",
        "    over_average['overs']=o.values\n",
        "    for i in overs:\n",
        "        over_temp_frame=df.loc[df['over']== i]\n",
        "        total_bruns=over_temp_frame['bye_runs'].sum()\n",
        "        total_lbruns=over_temp_frame['legbye_runs'].sum()\n",
        "        b_non_zero=over_temp_frame.loc[over_temp_frame['batsman_runs'] != 0,\"batsman_runs\"].sum()\n",
        "        b_dot=over_temp_frame.loc[over_temp_frame['batsman_runs']==0,\"batsman_runs\"].count()\n",
        "        b_dis=over_temp_frame.loc[over_temp_frame['dismissal_kind'] != 'NaN',\"dismissal_kind\"].count()\n",
        "        oa=(1*total_bruns+1*total_lbruns+2*b_non_zero+-1*b_dot+-3*b_dis)/5\n",
        "        o_a.append(oa)\n",
        "    o_a=pd.Series(o_a)\n",
        "    over_average['average']=o_a.values\n",
        "    bat_av=over_average[\"average\"].mean()\n",
        "    return bat_av\n",
        "\n",
        "\n",
        "def Bowling_Averager(df):\n",
        "    over_average=pd.DataFrame()\n",
        "    overs=list(range(1, 21))\n",
        "    o_a=[]\n",
        "    o=pd.Series(overs)\n",
        "    over_average['overs']=o.values\n",
        "    for i in overs:\n",
        "        over_temp_frame=df.loc[df['over']== i]\n",
        "        total_wr=over_temp_frame['wide_runs'].sum()\n",
        "        total_nb=over_temp_frame['noball_runs'].sum()\n",
        "        total_pr=over_temp_frame['penalty_runs'].sum()\n",
        "        total_er=over_temp_frame['extra_runs'].sum()\n",
        "        b_non_zero=over_temp_frame.loc[over_temp_frame['total_runs'] != 0,\"total_runs\"].sum()\n",
        "        b_dot=over_temp_frame.loc[over_temp_frame['total_runs']==0,\"total_runs\"].count()\n",
        "        b_dis=over_temp_frame.loc[over_temp_frame['dismissal_kind'] != 'NaN',\"dismissal_kind\"].count()\n",
        "        oa=(-1*total_wr+-1*total_nb+-2*total_pr+-1*total_er+-2*b_non_zero+5*b_dot+10*b_dis)/7\n",
        "        o_a.append(oa)\n",
        "    o_a=pd.Series(o_a)\n",
        "    over_average['average']=o_a.values\n",
        "    bow_av=over_average[\"average\"].mean()\n",
        "    return(bow_av)\n",
        "\n",
        "\n",
        "\n",
        "def df_feature(TRM,TRD,T):\n",
        "    # Creating Feature Table\n",
        "    F_T=pd.DataFrame()\n",
        "\n",
        "    # Making match_id as the index\n",
        "    F_T[\"match_id\"]=TRM[\"id\"]\n",
        "    F_T.index=F_T[\"match_id\"]\n",
        "\n",
        "    # Adding Team Deatils\n",
        "    F_T[\"Team A\"]=TRM[\"team1\"]\n",
        "    F_T[\"Team B\"]=TRM[\"team2\"]\n",
        "\n",
        "    # Adding Season Feature\n",
        "    F_T[\"season\"]=TRM[\"season\"]\n",
        "\n",
        "    # Adding Toss Winner Feature\n",
        "    F_T[\"toss_winner\"]=TRM[\"toss_winner\"]\n",
        "\n",
        "    # Adding dl feature\n",
        "    F_T[\"dl_applied\"]=TRM[\"dl_applied\"]\n",
        "\n",
        "    #Adding cross validation features\n",
        "    #creating team_performance dataframe\n",
        "    team_performance=pd.DataFrame()\n",
        "    team_performance[\"match_id\"]=TRM[\"id\"]\n",
        "    team_performance.index=team_performance[\"match_id\"]\n",
        "    team_performance[\"Team_A_Batting_Average\"]=0.0\n",
        "    team_performance[\"Team_A_Bowling_Average\"]=0.0\n",
        "    team_performance[\"Team_A_Total_Runs\"]=0.0\n",
        "    team_performance[\"Team_B_Batting_Average\"]=0.0\n",
        "    team_performance[\"Team_B_Bowling_Average\"]=0.0\n",
        "    team_performance[\"Team_B_Total_Runs\"]=0.0\n",
        "    team_performance[\"Team_A_overall\"]=0.0\n",
        "    team_performance[\"Team_B_overall\"]=0.0\n",
        "    team_performance[\"super_over\"]='0'\n",
        "\n",
        "    # creating match_id list\n",
        "    match_id_list=TRM[\"id\"].unique()\n",
        "    overs_list=[1,2,3,4,5,6,7,8,9,10,11,12,13,14,15,16,17,18,19,20]\n",
        "\n",
        "\n",
        "    for m in match_id_list:\n",
        "        match_frame=TRD.loc[TRD[\"match_id\"]==m]\n",
        "        temp=F_T.loc[m,\"Team A\":\"Team B\"]\n",
        "        team_dict=temp.to_dict()\n",
        "        FLAG=False\n",
        "        team_perform_dict={\"match_id\":m,\"Team_A_Batting_Average\":0.0,\"Team_A_Bowling_Average\":0.0,\"Team_A_Total_Runs\":0,\"Team_B_Batting_Average\":0.0,\"Team_B_Bowling_Average\":0.0,\"Team_B_Total_Runs\":0,\"Team_A_overall\":0.0,\"Team_B_overall\":0.0,\"super_over\":0}\n",
        "        super_over=match_frame['is_super_over'].sum()\n",
        "\n",
        "        if super_over==0:\n",
        "            innings=match_frame[\"inning\"].unique()\n",
        "            super_over_innings=[]\n",
        "        else :\n",
        "            super_over_run={\"Team_A_run\":0,\"Team_B_run\":0}\n",
        "            FLAG=True\n",
        "            super_over_innings=[3,4]\n",
        "\n",
        "        for i in innings:\n",
        "            innings_frame=pd.DataFrame()\n",
        "            innings_frame=match_frame.loc[match_frame['inning'] == i]\n",
        "            batting_team=innings_frame.loc[innings_frame['inning']== i,\"batting_team\"].values[0]\n",
        "            bowling_team=innings_frame.loc[innings_frame['inning']== i,\"bowling_team\"].values[0]\n",
        "\n",
        "            if(team_dict['Team A']==batting_team):\n",
        "                batting_team_frame=innings_frame[['over','ball','bye_runs','legbye_runs','batsman_runs','dismissal_kind']]\n",
        "                bowling_team_frame=innings_frame[['over','ball','wide_runs','noball_runs','penalty_runs','extra_runs','total_runs','dismissal_kind']]\n",
        "                team_perform_dict[\"Team_A_Batting_Average\"]=Batting_Averager(batting_team_frame)\n",
        "                team_perform_dict[\"Team_B_Bowling_Average\"]=Bowling_Averager(bowling_team_frame)\n",
        "                team_perform_dict[\"Team_A_Total_Runs\"] =innings_frame['total_runs'].sum()\n",
        "\n",
        "            elif(team_dict['Team B']==batting_team):\n",
        "                batting_team_frame=innings_frame[['over','ball','bye_runs','legbye_runs','batsman_runs','dismissal_kind']]\n",
        "                bowling_team_frame=innings_frame[['over','ball','wide_runs','noball_runs','penalty_runs','extra_runs','total_runs','dismissal_kind']]\n",
        "                team_perform_dict[\"Team_B_Batting_Average\"]=Batting_Averager(batting_team_frame)\n",
        "                team_perform_dict[\"Team_A_Bowling_Average\"]=Bowling_Averager(bowling_team_frame)\n",
        "                team_perform_dict[\"Team_B_Total_Runs\"] =innings_frame['total_runs'].sum()\n",
        "\n",
        "        for i in super_over_innings:\n",
        "            innings_frame=pd.DataFrame()\n",
        "            innings_frame=match_frame.loc[match_frame['inning']==i]\n",
        "            batting_team=innings_frame.loc[innings_frame['inning']== i,\"batting_team\"].values[0]\n",
        "            if(team_dict['Team A']==batting_team):\n",
        "                super_over_run[\"Team_A_run\"]=innings_frame['total_runs'].sum()\n",
        "            elif(team_dict['Team B']==batting_team):\n",
        "                super_over_run[\"Team_B_run\"]=innings_frame['total_runs'].sum()\n",
        "\n",
        "        if FLAG:\n",
        "            if super_over_run[\"Team_A_run\"]>super_over_run[\"Team_B_run\"]:\n",
        "                team_perform_dict['super_over']=1\n",
        "            elif super_over_run[\"Team_B_run\"]>super_over_run[\"Team_A_run\"]:\n",
        "                team_perform_dict['super_over']=2\n",
        "\n",
        "        team_perform_dict[\"Team_A_overall\"]=(team_perform_dict[\"Team_A_Batting_Average\"]+team_perform_dict[\"Team_A_Bowling_Average\"])/2\n",
        "        team_perform_dict[\"Team_B_overall\"]=(team_perform_dict[\"Team_B_Batting_Average\"]+team_perform_dict[\"Team_B_Bowling_Average\"])/2\n",
        "\n",
        "\n",
        "        df=pd.DataFrame([team_perform_dict],columns=team_perform_dict.keys())\n",
        "        df.index=df[\"match_id\"]\n",
        "        match=df[\"match_id\"].unique()\n",
        "        team_performance.loc[match,:]= df.loc[df[\"match_id\"],:]\n",
        "\n",
        "    F_T[\"Team_A_Batting_Average\"]=team_performance[\"Team_A_Batting_Average\"]\n",
        "    F_T[\"Team_A_Bowling_Average\"]=team_performance[\"Team_A_Bowling_Average\"]\n",
        "    F_T[\"Team_A_Total_Runs\"]=team_performance[\"Team_A_Total_Runs\"]\n",
        "    F_T[\"Team_B_Batting_Average\"]=team_performance[\"Team_B_Batting_Average\"]\n",
        "    F_T[\"Team_B_Bowling_Average\"]=team_performance[\"Team_B_Bowling_Average\"]\n",
        "    F_T[\"Team_B_Total_Runs\"]=team_performance[\"Team_B_Total_Runs\"]\n",
        "    F_T[\"Team_A_overall\"]=team_performance[\"Team_A_overall\"]\n",
        "    F_T[\"Team_B_overall\"]=team_performance[\"Team_B_overall\"]\n",
        "    F_T[\"super_over\"]=team_performance[\"super_over\"]\n",
        "\n",
        "    if(T):\n",
        "        #Winner Field\n",
        "        winner_frame=pd.DataFrame()\n",
        "        winner_frame[\"match_id\"]=TRM[\"id\"]\n",
        "        winner_frame.index=winner_frame[\"match_id\"]\n",
        "        winner_frame[\"winner\"]=0\n",
        "        match_id_list=TRM[\"id\"].unique()\n",
        "\n",
        "        for m in match_id_list:\n",
        "            winner=TRM.loc[TRM['id']== m,\"winner\"].values[0]\n",
        "            temp=F_T.loc[m,\"Team A\":\"Team B\"]\n",
        "            team_dict=temp.to_dict()\n",
        "            if(winner==team_dict[\"Team A\"]):\n",
        "                winner_frame.at[m, 'winner'] = 0\n",
        "            elif(winner==team_dict[\"Team B\"]):\n",
        "                winner_frame.at[m,'winner']=1\n",
        "\n",
        "        #Adding Winner Field to F_T\n",
        "        F_T[\"winner\"]=winner_frame[\"winner\"]\n",
        "\n",
        "    return F_T\n",
        "\n"
      ],
      "execution_count": null,
      "outputs": []
    },
    {
      "metadata": {
        "_cell_guid": "5ca38097-9189-4809-9bbb-5fddcee4832d",
        "collapsed": true,
        "_uuid": "547455460526eeaf20ac14d128d2163bb09ed800",
        "trusted": false,
        "id": "bA4os6iFwL6A"
      },
      "cell_type": "code",
      "source": [
        "T=True\n",
        "train=df_feature(TRM,TRD,T)"
      ],
      "execution_count": null,
      "outputs": []
    },
    {
      "metadata": {
        "_cell_guid": "2419c96b-a1ae-40d3-81aa-f74f80e9c8af",
        "_uuid": "d2bbf9df02280fac8f2b463fde8900313aba4463",
        "trusted": false,
        "collapsed": true,
        "id": "MDGNl-iFwL6A"
      },
      "cell_type": "code",
      "source": [
        "train"
      ],
      "execution_count": null,
      "outputs": []
    },
    {
      "metadata": {
        "_cell_guid": "caa129ac-8cf8-4cc0-a54e-07f8d1398c18",
        "collapsed": true,
        "_uuid": "766417d3915542537ba4de3096d0988b99f8460e",
        "trusted": false,
        "id": "Gzq2AfjewL6B"
      },
      "cell_type": "code",
      "source": [
        "train_feature=[\"season\", \"dl_applied\",\n",
        "               \"Team_A_Batting_Average\", \"Team_A_Bowling_Average\",\n",
        "               \"Team_A_Total_Runs\",\n",
        "                \"Team_B_Batting_Average\", \"Team_B_Bowling_Average\",\n",
        "               \"Team_B_Total_Runs\",\n",
        "                \"Team_A_overall\",\"Team_B_overall\",\"super_over\"]\n",
        "\n",
        "\n",
        "\n",
        "\n",
        "\n",
        "X_train, X_test, y_train, y_test = train_test_split(train[train_feature],train[\"winner\"], test_size = 0.2, random_state = 10)\n",
        "#one_hot_encoded_training_predictors=one_hot_encoded_training_predictors.drop('toss_winner_Team11',1)\n"
      ],
      "execution_count": null,
      "outputs": []
    },
    {
      "metadata": {
        "_cell_guid": "537a0884-859b-45a4-aea5-3c93509dd1bd",
        "_uuid": "c0ed68161bccb96be39c8ba02b4b516c80358da2",
        "id": "G-ytnZbmwL6B"
      },
      "cell_type": "markdown",
      "source": [
        "** USING NAVIE_BAYES ALGORITHM **"
      ]
    },
    {
      "metadata": {
        "_cell_guid": "480bbbd5-7b0c-442e-947a-0dd878dddeb8",
        "_uuid": "72af63e90ed8e0727883efb615c6fc3c924e52e9",
        "trusted": false,
        "collapsed": true,
        "id": "qdmDq9SFwL6B"
      },
      "cell_type": "code",
      "source": [
        "#Create a Gaussian Classifier\n",
        "model = GaussianNB()\n",
        "\n",
        "# Train the model using the training sets\n",
        "model.fit(X_train,y_train)\n",
        "\n",
        "#Predict Output\n",
        "predicted= model.predict(X_test)\n",
        "a = accuracy_score(y_test,predicted)\n",
        "print('The accuracy using NB is:',format(a*100))\n",
        "\n",
        "conf_mat = confusion_matrix(y_test, predicted)\n",
        "conf_mat_normalized = conf_mat.astype('float') / conf_mat.sum(axis=1)[:, np.newaxis]\n",
        "sns.heatmap(conf_mat_normalized)\n",
        "plt.ylabel('True label')\n",
        "plt.xlabel('Predicted label')\n",
        "plt.show()"
      ],
      "execution_count": null,
      "outputs": []
    },
    {
      "metadata": {
        "_cell_guid": "653d1631-7048-459d-9898-b2415fbd2145",
        "_uuid": "72b25856752686a71cd7e8f1b738676f2de23fe6",
        "id": "5Pk7WESHwL6B"
      },
      "cell_type": "markdown",
      "source": [
        "** DECISION TREE REGRESSOR **"
      ]
    },
    {
      "metadata": {
        "_cell_guid": "9933837a-0c0c-4c71-8157-3cda63a5f71b",
        "_uuid": "330b34e0ad82806c7fb13f7c4e222c5b29370115",
        "trusted": false,
        "collapsed": true,
        "id": "np09SPC8wL6B"
      },
      "cell_type": "code",
      "source": [
        "# Define model\n",
        "DT_model = DecisionTreeRegressor()\n",
        "\n",
        "# Fit model\n",
        "DT_model.fit(X_train, y_train)\n",
        "\n",
        "#Predict Output\n",
        "predicted= DT_model.predict(X_test)\n",
        "a = accuracy_score(y_test,predicted)\n",
        "print('The accuracy using DecisionTreeRegressor is:',format(a*100))\n",
        "\n",
        "conf_mat = confusion_matrix(y_test, predicted)\n",
        "conf_mat_normalized = conf_mat.astype('float') / conf_mat.sum(axis=1)[:, np.newaxis]\n",
        "sns.heatmap(conf_mat_normalized)\n",
        "plt.ylabel('True label')\n",
        "plt.xlabel('Predicted label')\n",
        "plt.show()"
      ],
      "execution_count": null,
      "outputs": []
    },
    {
      "metadata": {
        "_cell_guid": "b8c52649-6022-42e8-a49d-f6bfe6f56805",
        "_uuid": "b1132bb3837dd289f78e45b848bba05af439f1c9",
        "id": "r_k5MWeowL6C"
      },
      "cell_type": "markdown",
      "source": [
        "** SUPPORT VECTOR MACHINE **"
      ]
    },
    {
      "metadata": {
        "_cell_guid": "a759d811-e3d4-4ed9-9b43-c80121924d80",
        "_uuid": "48b3716d9ea4b016500631e5206df2e1cfb0eb59",
        "trusted": false,
        "collapsed": true,
        "id": "BQp9_OHzwL6C"
      },
      "cell_type": "code",
      "source": [
        "# Define model\n",
        "SVC_model = svm.SVC()\n",
        "\n",
        "# Fit model\n",
        "SVC_model.fit(X_train, y_train)\n",
        "\n",
        "#Predict Output\n",
        "predicted= SVC_model.predict(X_test)\n",
        "a = accuracy_score(y_test,predicted)\n",
        "print('The accuracy using SVC Classifier is:',format(a*100))\n",
        "\n",
        "conf_mat = confusion_matrix(y_test, predicted)\n",
        "conf_mat_normalized = conf_mat.astype('float') / conf_mat.sum(axis=1)[:, np.newaxis]\n",
        "sns.heatmap(conf_mat_normalized)\n",
        "plt.ylabel('True label')\n",
        "plt.xlabel('Predicted label')\n",
        "plt.show()"
      ],
      "execution_count": null,
      "outputs": []
    },
    {
      "metadata": {
        "_cell_guid": "9f9910b7-f91c-4248-b497-8595c3be35f7",
        "_uuid": "ce8e9096bd1a55b1b1471b338fb0a52e32af6541",
        "id": "vQai7J3UwL6C"
      },
      "cell_type": "markdown",
      "source": [
        "** RANDOM FOREST ALGORITHM **"
      ]
    },
    {
      "metadata": {
        "_cell_guid": "2d81d2d1-f5e0-42a8-abeb-a8a178217903",
        "_uuid": "d04ac13058d3f2192bf7496935c1cb13b36b242a",
        "trusted": false,
        "collapsed": true,
        "id": "RCok3xgDwL6C"
      },
      "cell_type": "code",
      "source": [
        "# Define model\n",
        "RF_model = RandomForestClassifier(max_depth=2, random_state=0)\n",
        "\n",
        "# Fit model\n",
        "RF_model.fit(X_train, y_train)\n",
        "\n",
        "#Predict Output\n",
        "predicted= RF_model.predict(X_test)\n",
        "a = accuracy_score(y_test,predicted)\n",
        "print('The accuracy using RandomForest Classifier is:',format(a*100))\n",
        "\n",
        "conf_mat = confusion_matrix(y_test, predicted)\n",
        "conf_mat_normalized = conf_mat.astype('float') / conf_mat.sum(axis=1)[:, np.newaxis]\n",
        "sns.heatmap(conf_mat_normalized)\n",
        "plt.ylabel('True label')\n",
        "plt.xlabel('Predicted label')\n",
        "plt.show()"
      ],
      "execution_count": null,
      "outputs": []
    },
    {
      "metadata": {
        "_cell_guid": "b4123d3d-443d-4ec3-ba40-55003ba23b6e",
        "_uuid": "99a787c1ac884a9fd3695037e0dbc945855a9572",
        "trusted": false,
        "collapsed": true,
        "id": "BULZAvLwwL6C"
      },
      "cell_type": "code",
      "source": [
        "TTM=pd.read_csv(\"Testmatches.csv\")\n",
        "TTM[\"id\"]=TTM[\"match_id\"]\n",
        "TTM = TTM.drop('match_id', 1)\n",
        "TTM.index=TTM[\"id\"]\n",
        "TTD=pd.read_csv(\"TestDeliveries.csv\")\n",
        "T=False\n",
        "test_df = df_feature(TTM,TTD,T)\n",
        "\n",
        "test_df"
      ],
      "execution_count": null,
      "outputs": []
    },
    {
      "metadata": {
        "_cell_guid": "58ad9116-6d40-4063-9638-7bcaa28d986b",
        "collapsed": true,
        "_uuid": "4bb33affc845d53c05150f84724a96ce4c68d8c4",
        "trusted": false,
        "id": "2LxWkV3XwL6D"
      },
      "cell_type": "code",
      "source": [
        "sub=pd.read_csv(\"submission.csv\")\n",
        "sub.index=sub[\"match_id\"]"
      ],
      "execution_count": null,
      "outputs": []
    },
    {
      "metadata": {
        "_cell_guid": "bd5d41ed-95c8-4277-ba4b-67a0cc25ffc3",
        "_uuid": "a498f6ae93b8b7c9be89cfade67bbba36534d191",
        "trusted": false,
        "collapsed": true,
        "id": "_vzgJg6DwL6D"
      },
      "cell_type": "code",
      "source": [
        "print(\"Predicting...\")\n",
        "sub['team_1_win_flag'] =model.predict(test_df[train_feature])\n",
        "sub.team_1_win_flag.replace([0,1], [1, 0], inplace=True)\n",
        "print(\"writing...\")\n",
        "sub.to_csv('sub1.csv', index = False)\n",
        "test_df.to_csv('test.csv',index=False)\n",
        "print(\"done...\")\n",
        "print(sub.info())"
      ],
      "execution_count": null,
      "outputs": []
    },
    {
      "metadata": {
        "_cell_guid": "c106c4fc-8341-418d-9bdc-8584345df319",
        "collapsed": true,
        "_uuid": "272b9a33060071a5e740b229aa9094e295a043bb",
        "trusted": false,
        "id": "sEM390hEwL6D"
      },
      "cell_type": "code",
      "source": [],
      "execution_count": null,
      "outputs": []
    }
  ],
  "metadata": {
    "language_info": {
      "name": "python",
      "version": "3.6.6",
      "mimetype": "text/x-python",
      "codemirror_mode": {
        "name": "ipython",
        "version": 3
      },
      "pygments_lexer": "ipython3",
      "nbconvert_exporter": "python",
      "file_extension": ".py"
    },
    "kernelspec": {
      "display_name": "Python 3",
      "language": "python",
      "name": "python3"
    },
    "colab": {
      "provenance": []
    }
  },
  "nbformat": 4,
  "nbformat_minor": 0
}